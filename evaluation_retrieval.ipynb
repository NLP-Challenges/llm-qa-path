{
 "cells": [
  {
   "cell_type": "code",
   "execution_count": 11,
   "outputs": [],
   "source": [
    "import pandas as pd\n",
    "import json\n",
    "import os\n",
    "import matplotlib.pyplot as plt"
   ],
   "metadata": {
    "collapsed": false,
    "ExecuteTime": {
     "end_time": "2024-01-15T21:07:38.978492Z",
     "start_time": "2024-01-15T21:07:38.972615Z"
    }
   },
   "id": "3b146095d886b4b3"
  },
  {
   "cell_type": "markdown",
   "source": [
    "# Einführung und Setup\n",
    "Dieses Notebook dokumentiert unsere Evaluation der Qualität des retrieval Prozesses. Sie basiert auf Resultaten der DVC Stage `eval_retrieval_metrics.py`, welche den reciprocal rank für Dokumente, die von einem ausgesuchten Embedder (hier `distiluse-base-multilingual-cased-v1`) als relevant eingestuft wurden, bestimmt und daraus den Mean reciprocal rank berechnet. Die Resultate dieser Stage werden im Ordner `data/processed` abgelegt und können mittels `dvc pull` bezogen werden, sofern die benötigten Berechtigungen vorhanden sind.   \n",
    "\n",
    "# Reciprocal rank und mean reciprocal rank  \n",
    " Der reciprocal rank gibt an, an welcher Stelle das korrekte Dokument durch den Embedder empfohlen worden ist. In diesem Fall steht das korrekte Dokument für jenes, welches genutzt worden ist, um mit ChatGPT die Frage zu generieren. Wenn das Modell stets die korrekte Rückmeldung liefert, würde jede Frage einen Rank von 1 erhalten. Aus einer Liste solcher Rankings kann dann eine zusammenfassende Metrik, der mean reciprocal rank, berechnet werden. Die Formel dafür lautet wie folgt:  \n",
    "$$\n",
    " \\text{MRR} = \\sum_{i=1}^{|Q|}\\frac{1}{\\text{rank}_i}\n",
    "$$\n",
    "wobei:\n",
    "- $|Q|$: die Anzahl gestellter Fragen\n",
    "- $\\text{rank}$: der reciprocal rank\n",
    "\n",
    "Dieser Durchschnittswert entspricht dem harmonischen Mittel der Ranks. "
   ],
   "metadata": {
    "collapsed": false
   },
   "id": "be9b1fe0da689918"
  },
  {
   "cell_type": "code",
   "execution_count": 7,
   "outputs": [
    {
     "name": "stdout",
     "output_type": "stream",
     "text": [
      "   Unnamed: 0                                           question  rank\n",
      "0           0  Was ist das Ausbildungskonzept für den Studien...    11\n",
      "1           1  Was ist das Ziel des Ausbildungskonzepts laut ...    15\n",
      "2           2  Was wird auf den Seiten 3 bis 22 des Inputs be...   146\n",
      "3           3  Welches Ziel hat die Bachelor-Ausbildung an de...     1\n",
      "4           4  Was ist das Ziel des Studiengangs Data Science...   211\n"
     ]
    }
   ],
   "source": [
    "# read ranks data\n",
    "ranks_file_path = \"./data/processed/eval_retrieval_ranks.csv\"\n",
    "\n",
    "if os.path.isfile(ranks_file_path):\n",
    "    df_ranks = pd.read_csv(ranks_file_path)\n",
    "    print(df_ranks.head())\n",
    "else:\n",
    "    print(\"Ranks file is not available, please provide it using dvc\")"
   ],
   "metadata": {
    "collapsed": true,
    "ExecuteTime": {
     "end_time": "2024-01-15T20:52:38.789030Z",
     "start_time": "2024-01-15T20:52:38.768429Z"
    }
   },
   "id": "initial_id"
  },
  {
   "cell_type": "code",
   "execution_count": 9,
   "outputs": [
    {
     "name": "stdout",
     "output_type": "stream",
     "text": [
      "{'mrr': 0.5115116621454743}\n"
     ]
    }
   ],
   "source": [
    "# read mrr \n",
    "mrr_file_path = \"./data/processed/eval_retrieval_metrics.json\"\n",
    "\n",
    "if os.path.isfile(mrr_file_path):\n",
    "    with open(mrr_file_path, 'r') as f:\n",
    "      mrr = json.load(f)\n",
    "    print(mrr)\n",
    "else:\n",
    "    print(\"Metrics file is not available, please provide it using dvc\")"
   ],
   "metadata": {
    "collapsed": false,
    "ExecuteTime": {
     "end_time": "2024-01-15T20:53:13.728178Z",
     "start_time": "2024-01-15T20:53:13.722564Z"
    }
   },
   "id": "63d23211d992e53a"
  },
  {
   "cell_type": "markdown",
   "source": [
    "# MRR\n",
    "In unserem Test haben wir einen MRR von rund 0.512 erreicht. Da es sich aber um einen Mittelwert handelt, überprüfen wir nachfolgend die Verteilung der Rankings und allfällige Ausreisser."
   ],
   "metadata": {
    "collapsed": false
   },
   "id": "15fa8e1310b860be"
  },
  {
   "cell_type": "code",
   "execution_count": 10,
   "outputs": [],
   "source": [
    "# clean up df_ranks\n",
    "df_ranks = df_ranks.drop(df_ranks.columns[0], axis=1)"
   ],
   "metadata": {
    "collapsed": false,
    "ExecuteTime": {
     "end_time": "2024-01-15T20:56:10.493674Z",
     "start_time": "2024-01-15T20:56:10.488378Z"
    }
   },
   "id": "2f6c879482981e2a"
  },
  {
   "cell_type": "code",
   "execution_count": 19,
   "outputs": [
    {
     "data": {
      "text/plain": "<Figure size 640x480 with 1 Axes>",
      "image/png": "[encoded data removed]"
     },
     "metadata": {},
     "output_type": "display_data"
    }
   ],
   "source": [
    "# Plot histogram\n",
    "df_ranks['rank'].hist(bins=50)\n",
    "\n",
    "# Show the plot\n",
    "plt.show()"
   ],
   "metadata": {
    "collapsed": false,
    "ExecuteTime": {
     "end_time": "2024-01-15T21:10:21.319305Z",
     "start_time": "2024-01-15T21:10:21.109952Z"
    }
   },
   "id": "3a56b99f69caadd5"
  },
  {
   "cell_type": "markdown",
   "source": [
    "In diesem Plot ist die Verteilung der reciprocal ranks zu sehen. Auffällig ist, dass sehr viele sich im Bereich von 1 befinden und ein paar wenige Observationen einen Rank von > 2000 erreicht haben. Nachfolgend wollen wir diese Gegebenheiten genauer untersuchen. "
   ],
   "metadata": {
    "collapsed": false
   },
   "id": "a8ce4e6dbbbebe11"
  },
  {
   "cell_type": "code",
   "execution_count": 15,
   "outputs": [
    {
     "data": {
      "text/plain": "count    2123.000000\nmean       91.640603\nstd       316.300130\nmin         1.000000\n25%         1.000000\n50%         2.000000\n75%        20.000000\nmax      2294.000000\nName: rank, dtype: float64"
     },
     "execution_count": 15,
     "metadata": {},
     "output_type": "execute_result"
    }
   ],
   "source": [
    "df_ranks['rank'].describe()"
   ],
   "metadata": {
    "collapsed": false,
    "ExecuteTime": {
     "end_time": "2024-01-15T21:09:10.895550Z",
     "start_time": "2024-01-15T21:09:10.876213Z"
    }
   },
   "id": "cd9b09d6b5768c81"
  },
  {
   "cell_type": "markdown",
   "source": [
    "75% der aufgezeichneten Rankings weisen einen Wert von 20 oder weniger auf, wobei der grösste erreichte Wert bei 2294 liegt. Für einen sehr kleinen Anteil der Fragen mussten im Verhältnis also sehr viele Dokumente vorgeschlagen werden, bis das richtige gefunden wurde. Diese wenigen Ausreisser wirken sich demnach stark negativ auf den MRR aus. Trotz einem relativ schwachen MRR von 0.512 werden sehr viele Dokumente im ersten Versuch korrekt identifiziert. Bei welchen Dokumenten das nicht passiert, schauen wir uns genauer an.      "
   ],
   "metadata": {
    "collapsed": false
   },
   "id": "edbc6ae48ea346ff"
  },
  {
   "cell_type": "code",
   "execution_count": 28,
   "outputs": [
    {
     "name": "stdout",
     "output_type": "stream",
     "text": [
      "                                                                                                                question  \\\n",
      "1188                                        Welche Auswirkungen hat die Abholzung auf die Tierwelt und ihre Lebensräume?   \n",
      "1187                                        Welche Auswirkungen hat die Abholzung auf die Tierwelt und ihre Lebensräume?   \n",
      "290   Welche Herausforderungen und Chancen ergeben sich durch die schnelle Verbreitung von Technologie in unserem Leben?   \n",
      "1811                                      Wie viele ganze Zahlen gibt es in der Liste $ 2000, 2001, 2002, \\ldots, 4000$?   \n",
      "1475                               Wie viele positive ganze Zahlen kleiner als 100 haben eine gerade Anzahl von Teilern?   \n",
      "1474                               Wie viele positive ganze Zahlen kleiner als 100 haben eine gerade Anzahl von Teilern?   \n",
      "1345                               Wie viele positive ganze Zahlen kleiner als 100 haben eine gerade Anzahl von Teilern?   \n",
      "1200                               Wie viele positive ganze Zahlen kleiner als 100 haben eine gerade Anzahl von Teilern?   \n",
      "942                                Wie viele positive ganze Zahlen kleiner als 100 haben eine gerade Anzahl von Teilern?   \n",
      "956                                Wie viele positive ganze Zahlen kleiner als 100 haben eine gerade Anzahl von Teilern?   \n",
      "\n",
      "      rank  \n",
      "1188  2294  \n",
      "1187  2293  \n",
      "290   2292  \n",
      "1811  2285  \n",
      "1475  2268  \n",
      "1474  2267  \n",
      "1345  2266  \n",
      "1200  2265  \n",
      "942   2264  \n",
      "956   2263  \n"
     ]
    }
   ],
   "source": [
    "pd.set_option('display.max_colwidth', None)\n",
    "top_10_rows = df_ranks.nlargest(10, 'rank')\n",
    "\n",
    "# Print the top 10 rows with the highest ranks\n",
    "print(top_10_rows)"
   ],
   "metadata": {
    "collapsed": false,
    "ExecuteTime": {
     "end_time": "2024-01-15T21:16:48.437764Z",
     "start_time": "2024-01-15T21:16:48.428089Z"
    }
   },
   "id": "86f8032ebf54dd71"
  },
  {
   "cell_type": "code",
   "execution_count": 29,
   "outputs": [
    {
     "name": "stdout",
     "output_type": "stream",
     "text": [
      "                                                                                                                                            question  \\\n",
      "3                                                                   Welches Ziel hat die Bachelor-Ausbildung an der Hochschule für Technik der FHNW?   \n",
      "20                                                    Wie viele Studierende haben Prüfungen von Modulen im Gegenwert von 60 Credits nicht bestanden?   \n",
      "26                                  Wie viele Credits muss ein Student im Studiengang Data Science erwerben, um den Bachelor-Abschluss zu erreichen?   \n",
      "36                                                                                Was sind die Rechte und Pflichten der Studierenden gemäß der FHNW?   \n",
      "37                                                                Was ist das Portfoliomodul für das 2D-BSc-Data-Science-Programm im Herbstsemester?   \n",
      "39                                                                        Welche Lernergebnisse umfasst das Portfoliomodul \"Digitale Kommunikation\"?   \n",
      "40                                                                  Wofür wird digital communication, bzw. digital content creation meist verwendet?   \n",
      "42  Wie viel Prozent der Leistungspunkte werden für das Verstehen digitaler Kommunikation und das Planen digitaler Inhalte in diesem Modul vergeben?   \n",
      "49                                                 Welches Bewertungsraster sollte für die Bewertung eines LE3-Multimedia-Konzepts verwendet werden?   \n",
      "50                                                                         Welche Aufgaben gibt es im Trainingscenter für dko-Digital Kommunizieren?   \n",
      "\n",
      "    rank  \n",
      "3      1  \n",
      "20     1  \n",
      "26     1  \n",
      "36     1  \n",
      "37     1  \n",
      "39     1  \n",
      "40     1  \n",
      "42     1  \n",
      "49     1  \n",
      "50     1  \n"
     ]
    }
   ],
   "source": [
    "# Assuming df_ranks is your DataFrame and 'ranks' is the column you're interested in\n",
    "pd.set_option('display.max_colwidth', None)\n",
    "top_10_rows = df_ranks.nsmallest(10, 'rank')\n",
    "\n",
    "# Print the top 10 rows with the highest ranks\n",
    "print(top_10_rows)"
   ],
   "metadata": {
    "collapsed": false,
    "ExecuteTime": {
     "end_time": "2024-01-15T21:18:39.856007Z",
     "start_time": "2024-01-15T21:18:39.849399Z"
    }
   },
   "id": "11e9a6d6e5741c8"
  },
  {
   "cell_type": "code",
   "execution_count": null,
   "outputs": [],
   "source": [],
   "metadata": {
    "collapsed": false
   },
   "id": "10e96282dd4e2f5d"
  }
 ],
 "metadata": {
  "kernelspec": {
   "display_name": "Python 3",
   "language": "python",
   "name": "python3"
  },
  "language_info": {
   "codemirror_mode": {
    "name": "ipython",
    "version": 2
   },
   "file_extension": ".py",
   "mimetype": "text/x-python",
   "name": "python",
   "nbconvert_exporter": "python",
   "pygments_lexer": "ipython2",
   "version": "2.7.6"
  }
 },
 "nbformat": 4,
 "nbformat_minor": 5
}
