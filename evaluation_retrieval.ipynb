{
 "cells": [
  {
   "cell_type": "code",
   "execution_count": 1,
   "outputs": [],
   "source": [
    "import pandas as pd\n",
    "import json\n",
    "import os\n",
    "import matplotlib.pyplot as plt\n",
    "from langchain.vectorstores import Chroma\n",
    "import yaml\n",
    "from dill import load"
   ],
   "metadata": {
    "collapsed": false,
    "ExecuteTime": {
     "end_time": "2024-01-16T14:25:28.030033Z",
     "start_time": "2024-01-16T14:25:26.360501Z"
    }
   },
   "id": "3b146095d886b4b3"
  },
  {
   "cell_type": "code",
   "execution_count": 2,
   "outputs": [],
   "source": [
    "def copy_to_temp_folder(source_folder:str):\n",
    "    # create a temporary folder\n",
    "    temp_folder = tempfile.mkdtemp()\n",
    "\n",
    "    # copy files to temporary folder\n",
    "    for item in os.listdir(source_folder):\n",
    "        s = os.path.join(source_folder, item)\n",
    "        d = os.path.join(temp_folder, item)\n",
    "        if os.path.isdir(s):\n",
    "            shutil.copytree(s, d)\n",
    "        else:\n",
    "            shutil.copy2(s, d)\n",
    "\n",
    "    return temp_folder"
   ],
   "metadata": {
    "collapsed": false,
    "ExecuteTime": {
     "end_time": "2024-01-16T14:25:29.018104Z",
     "start_time": "2024-01-16T14:25:29.009009Z"
    }
   },
   "id": "111701186fc25e27"
  },
  {
   "cell_type": "code",
   "execution_count": 3,
   "outputs": [],
   "source": [
    "# Specify the path to your YAML file\n",
    "file_path_yaml = \"./dvc.yaml\"\n",
    "\n",
    "# Open the YAML file and load its contents into a Python object\n",
    "with open(file_path_yaml, 'r') as f:\n",
    "    dvc_parameters = yaml.safe_load(f)\n",
    "\n",
    "args = dvc_parameters['stages']['eval_retrieval_question_gen']['cmd'].split()\n",
    "\n",
    "vector_database_filename = args[2]"
   ],
   "metadata": {
    "collapsed": false,
    "ExecuteTime": {
     "end_time": "2024-01-16T14:25:30.327046Z",
     "start_time": "2024-01-16T14:25:30.299999Z"
    }
   },
   "id": "f312607e06e0e163"
  },
  {
   "cell_type": "code",
   "execution_count": 4,
   "outputs": [
    {
     "ename": "KeyError",
     "evalue": "'NoneType'",
     "output_type": "error",
     "traceback": [
      "\u001B[0;31m---------------------------------------------------------------------------\u001B[0m",
      "\u001B[0;31mKeyError\u001B[0m                                  Traceback (most recent call last)",
      "Cell \u001B[0;32mIn[4], line 3\u001B[0m\n\u001B[1;32m      1\u001B[0m \u001B[38;5;66;03m# load embedder\u001B[39;00m\n\u001B[1;32m      2\u001B[0m \u001B[38;5;28;01mwith\u001B[39;00m \u001B[38;5;28mopen\u001B[39m(args[\u001B[38;5;241m3\u001B[39m], \u001B[38;5;124m'\u001B[39m\u001B[38;5;124mrb\u001B[39m\u001B[38;5;124m'\u001B[39m) \u001B[38;5;28;01mas\u001B[39;00m f:\n\u001B[0;32m----> 3\u001B[0m     embedder \u001B[38;5;241m=\u001B[39m \u001B[43mload\u001B[49m\u001B[43m(\u001B[49m\u001B[43mf\u001B[49m\u001B[43m)\u001B[49m\n",
      "File \u001B[0;32m/usr/local/Caskroom/mambaforge/base/envs/cnlp1/lib/python3.9/site-packages/dill/_dill.py:287\u001B[0m, in \u001B[0;36mload\u001B[0;34m(file, ignore, **kwds)\u001B[0m\n\u001B[1;32m    281\u001B[0m \u001B[38;5;28;01mdef\u001B[39;00m \u001B[38;5;21mload\u001B[39m(file, ignore\u001B[38;5;241m=\u001B[39m\u001B[38;5;28;01mNone\u001B[39;00m, \u001B[38;5;241m*\u001B[39m\u001B[38;5;241m*\u001B[39mkwds):\n\u001B[1;32m    282\u001B[0m \u001B[38;5;250m    \u001B[39m\u001B[38;5;124;03m\"\"\"\u001B[39;00m\n\u001B[1;32m    283\u001B[0m \u001B[38;5;124;03m    Unpickle an object from a file.\u001B[39;00m\n\u001B[1;32m    284\u001B[0m \n\u001B[1;32m    285\u001B[0m \u001B[38;5;124;03m    See :func:`loads` for keyword arguments.\u001B[39;00m\n\u001B[1;32m    286\u001B[0m \u001B[38;5;124;03m    \"\"\"\u001B[39;00m\n\u001B[0;32m--> 287\u001B[0m     \u001B[38;5;28;01mreturn\u001B[39;00m \u001B[43mUnpickler\u001B[49m\u001B[43m(\u001B[49m\u001B[43mfile\u001B[49m\u001B[43m,\u001B[49m\u001B[43m \u001B[49m\u001B[43mignore\u001B[49m\u001B[38;5;241;43m=\u001B[39;49m\u001B[43mignore\u001B[49m\u001B[43m,\u001B[49m\u001B[43m \u001B[49m\u001B[38;5;241;43m*\u001B[39;49m\u001B[38;5;241;43m*\u001B[39;49m\u001B[43mkwds\u001B[49m\u001B[43m)\u001B[49m\u001B[38;5;241;43m.\u001B[39;49m\u001B[43mload\u001B[49m\u001B[43m(\u001B[49m\u001B[43m)\u001B[49m\n",
      "File \u001B[0;32m/usr/local/Caskroom/mambaforge/base/envs/cnlp1/lib/python3.9/site-packages/dill/_dill.py:442\u001B[0m, in \u001B[0;36mUnpickler.load\u001B[0;34m(self)\u001B[0m\n\u001B[1;32m    441\u001B[0m \u001B[38;5;28;01mdef\u001B[39;00m \u001B[38;5;21mload\u001B[39m(\u001B[38;5;28mself\u001B[39m): \u001B[38;5;66;03m#NOTE: if settings change, need to update attributes\u001B[39;00m\n\u001B[0;32m--> 442\u001B[0m     obj \u001B[38;5;241m=\u001B[39m \u001B[43mStockUnpickler\u001B[49m\u001B[38;5;241;43m.\u001B[39;49m\u001B[43mload\u001B[49m\u001B[43m(\u001B[49m\u001B[38;5;28;43mself\u001B[39;49m\u001B[43m)\u001B[49m\n\u001B[1;32m    443\u001B[0m     \u001B[38;5;28;01mif\u001B[39;00m \u001B[38;5;28mtype\u001B[39m(obj)\u001B[38;5;241m.\u001B[39m\u001B[38;5;18m__module__\u001B[39m \u001B[38;5;241m==\u001B[39m \u001B[38;5;28mgetattr\u001B[39m(_main_module, \u001B[38;5;124m'\u001B[39m\u001B[38;5;124m__name__\u001B[39m\u001B[38;5;124m'\u001B[39m, \u001B[38;5;124m'\u001B[39m\u001B[38;5;124m__main__\u001B[39m\u001B[38;5;124m'\u001B[39m):\n\u001B[1;32m    444\u001B[0m         \u001B[38;5;28;01mif\u001B[39;00m \u001B[38;5;129;01mnot\u001B[39;00m \u001B[38;5;28mself\u001B[39m\u001B[38;5;241m.\u001B[39m_ignore:\n\u001B[1;32m    445\u001B[0m             \u001B[38;5;66;03m# point obj class to main\u001B[39;00m\n",
      "File \u001B[0;32m/usr/local/Caskroom/mambaforge/base/envs/cnlp1/lib/python3.9/site-packages/dill/_dill.py:588\u001B[0m, in \u001B[0;36m_load_type\u001B[0;34m(name)\u001B[0m\n\u001B[1;32m    587\u001B[0m \u001B[38;5;28;01mdef\u001B[39;00m \u001B[38;5;21m_load_type\u001B[39m(name):\n\u001B[0;32m--> 588\u001B[0m     \u001B[38;5;28;01mreturn\u001B[39;00m \u001B[43m_reverse_typemap\u001B[49m\u001B[43m[\u001B[49m\u001B[43mname\u001B[49m\u001B[43m]\u001B[49m\n",
      "\u001B[0;31mKeyError\u001B[0m: 'NoneType'"
     ]
    }
   ],
   "source": [
    "# load embedder\n",
    "with open(args[3], 'rb') as f:\n",
    "    embedder = load(f)"
   ],
   "metadata": {
    "collapsed": false,
    "ExecuteTime": {
     "end_time": "2024-01-16T14:25:35.427125Z",
     "start_time": "2024-01-16T14:25:31.508567Z"
    }
   },
   "id": "483e62f00655ebf0"
  },
  {
   "cell_type": "code",
   "execution_count": 36,
   "outputs": [
    {
     "data": {
      "text/plain": "'data/processed/chroma'"
     },
     "execution_count": 36,
     "metadata": {},
     "output_type": "execute_result"
    }
   ],
   "source": [
    "temp = copy_to_temp_folder(vector_database_filename)\n",
    "vectorstore = Chroma(persist_directory=temp, embedding_function=embedder)\n"
   ],
   "metadata": {
    "collapsed": false,
    "ExecuteTime": {
     "end_time": "2024-01-16T14:03:15.621439Z",
     "start_time": "2024-01-16T14:03:15.613570Z"
    }
   },
   "id": "212e2770a6e7f0c9"
  },
  {
   "cell_type": "markdown",
   "source": [
    "# Einführung und Setup\n",
    "Dieses Notebook dokumentiert unsere Evaluation der Qualität des retrieval Prozesses. Sie basiert auf Resultaten der DVC Stage `eval_retrieval_metrics.py`, welche den reciprocal rank für Dokumente, die von einem ausgesuchten Embedder (hier `distiluse-base-multilingual-cased-v1`) als relevant eingestuft wurden, bestimmt und daraus den Mean reciprocal rank berechnet. Die Resultate dieser Stage werden im Ordner `data/processed` abgelegt und können mittels `dvc pull` bezogen werden, sofern die benötigten Berechtigungen vorhanden sind.   \n",
    "\n",
    "# Reciprocal rank und mean reciprocal rank  \n",
    " Der reciprocal rank gibt an, an welcher Stelle das korrekte Dokument durch den Embedder empfohlen worden ist. In diesem Fall steht das korrekte Dokument für jenes, welches genutzt worden ist, um mit dem llm `LeoLM/leo-mistral-hessianai-7b-chat` die im hier verwendeten Datensatz vorhandene Frage zu generieren. Wenn das Modell stets die korrekte Rückmeldung liefert, würde der Rank für jedes Dokument 1 sein.  \n",
    " \n",
    "Aus einer Liste solcher Rankings kann dann eine zusammenfassende Metrik, der mean reciprocal rank, berechnet werden. Die Formel dafür lautet wie folgt:  \n",
    "$$\n",
    " \\text{MRR} = \\sum_{i=1}^{|Q|}\\frac{1}{\\text{rank}_i}\n",
    "$$\n",
    "wobei:\n",
    "- $|Q|$: die Anzahl gestellter Fragen\n",
    "- $\\text{rank}$: der reciprocal rank\n",
    "\n",
    "Dieser Durchschnittswert entspricht dem harmonischen Mittel der Ranks. "
   ],
   "metadata": {
    "collapsed": false
   },
   "id": "be9b1fe0da689918"
  },
  {
   "cell_type": "code",
   "execution_count": 20,
   "outputs": [
    {
     "name": "stdout",
     "output_type": "stream",
     "text": [
      "   Unnamed: 0  \\\n",
      "0           0   \n",
      "1           1   \n",
      "2           2   \n",
      "3           3   \n",
      "4           4   \n",
      "\n",
      "                                                                                                                question  \\\n",
      "0                    Was ist das Ausbildungskonzept für den Studiengang Data Science an der Hochschule für Technik FHNW?   \n",
      "1                                    Was ist das Ziel des Ausbildungskonzepts laut dem Inhaltsverzeichnis des Dokuments?   \n",
      "2                                                                 Was wird auf den Seiten 3 bis 22 des Inputs behandelt?   \n",
      "3                                       Welches Ziel hat die Bachelor-Ausbildung an der Hochschule für Technik der FHNW?   \n",
      "4  Was ist das Ziel des Studiengangs Data Science und wie bereiten sie die Studierenden auf die heutige Arbeitswelt vor?   \n",
      "\n",
      "   rank  \n",
      "0    11  \n",
      "1    15  \n",
      "2   146  \n",
      "3     1  \n",
      "4   211  \n"
     ]
    }
   ],
   "source": [
    "# read ranks data\n",
    "ranks_file_path = \"./data/processed/eval_retrieval_ranks.csv\"\n",
    "\n",
    "if os.path.isfile(ranks_file_path):\n",
    "    df_ranks = pd.read_csv(ranks_file_path)\n",
    "    print(df_ranks.head())\n",
    "else:\n",
    "    print(\"Ranks file is not available, please provide it using dvc\")"
   ],
   "metadata": {
    "collapsed": true,
    "ExecuteTime": {
     "end_time": "2024-01-16T13:54:36.903933Z",
     "start_time": "2024-01-16T13:54:36.878243Z"
    }
   },
   "id": "initial_id"
  },
  {
   "cell_type": "code",
   "execution_count": 9,
   "outputs": [
    {
     "name": "stdout",
     "output_type": "stream",
     "text": [
      "{'mrr': 0.5115116621454743}\n"
     ]
    }
   ],
   "source": [
    "# read mrr \n",
    "mrr_file_path = \"./data/processed/eval_retrieval_metrics.json\"\n",
    "\n",
    "if os.path.isfile(mrr_file_path):\n",
    "    with open(mrr_file_path, 'r') as f:\n",
    "      mrr = json.load(f)\n",
    "    print(mrr)\n",
    "else:\n",
    "    print(\"Metrics file is not available, please provide it using dvc\")"
   ],
   "metadata": {
    "collapsed": false,
    "ExecuteTime": {
     "end_time": "2024-01-16T10:44:05.896374Z",
     "start_time": "2024-01-16T10:44:05.844303Z"
    }
   },
   "id": "63d23211d992e53a"
  },
  {
   "cell_type": "markdown",
   "source": [
    "# MRR\n",
    "In unserem Test haben wir einen MRR von rund 0.512 erreicht. Da es sich aber um einen Mittelwert handelt, überprüfen wir nachfolgend die Verteilung der Rankings und allfällige Ausreisser."
   ],
   "metadata": {
    "collapsed": false
   },
   "id": "15fa8e1310b860be"
  },
  {
   "cell_type": "code",
   "execution_count": 21,
   "outputs": [],
   "source": [
    "# clean up df_ranks\n",
    "df_ranks = df_ranks.rename(columns={df_ranks.columns[0]: 'id'})"
   ],
   "metadata": {
    "collapsed": false,
    "ExecuteTime": {
     "end_time": "2024-01-16T13:55:37.115298Z",
     "start_time": "2024-01-16T13:55:37.105518Z"
    }
   },
   "id": "2f6c879482981e2a"
  },
  {
   "cell_type": "code",
   "execution_count": 11,
   "outputs": [
    {
     "data": {
      "text/plain": "<Figure size 640x480 with 1 Axes>",
      "image/png": "[encoded data removed]"
     },
     "metadata": {},
     "output_type": "display_data"
    }
   ],
   "source": [
    "# Plot histogram\n",
    "df_ranks['rank'].hist(bins=50)\n",
    "\n",
    "# Add labels and title\n",
    "plt.xlabel('Rank')\n",
    "plt.ylabel('Frequency')\n",
    "plt.title('Histogram of Ranks')\n",
    "# Show the plot\n",
    "plt.show()"
   ],
   "metadata": {
    "collapsed": false,
    "ExecuteTime": {
     "end_time": "2024-01-16T10:44:06.348769Z",
     "start_time": "2024-01-16T10:44:05.921804Z"
    }
   },
   "id": "3a56b99f69caadd5"
  },
  {
   "cell_type": "markdown",
   "source": [
    "In diesem Plot ist die Verteilung der aufgezeichneten reciprocal ranks zu sehen. Auffällig ist, dass sehr viele sich im Bereich von 1 befinden und ein paar wenige Observationen einen Rank von > 2000 erreicht haben. Nachfolgend wird die Verteilung der Observationen genauer untersucht. "
   ],
   "metadata": {
    "collapsed": false
   },
   "id": "a8ce4e6dbbbebe11"
  },
  {
   "cell_type": "code",
   "execution_count": 12,
   "outputs": [
    {
     "data": {
      "text/plain": "count    2123.000000\nmean       91.640603\nstd       316.300130\nmin         1.000000\n25%         1.000000\n50%         2.000000\n75%        20.000000\nmax      2294.000000\nName: rank, dtype: float64"
     },
     "execution_count": 12,
     "metadata": {},
     "output_type": "execute_result"
    }
   ],
   "source": [
    "df_ranks['rank'].describe()"
   ],
   "metadata": {
    "collapsed": false,
    "ExecuteTime": {
     "end_time": "2024-01-16T10:44:06.364536Z",
     "start_time": "2024-01-16T10:44:06.350655Z"
    }
   },
   "id": "cd9b09d6b5768c81"
  },
  {
   "cell_type": "markdown",
   "source": [
    "75% der aufgezeichneten Rankings weisen einen Wert von 20 oder weniger auf, wobei der grösste erreichte Wert bei 2294 liegt. Für einen im Verhältnis kleinen Anteil der Fragen mussten also deutlich mehr Dokumente vorgeschlagen werden, bis das richtige gefunden wurde. Da es sich beim MRR um ein harmonisches Mittel handelt, bewegen diese wenigen Ausreisser den MRR mehr gegen 0. Trotz einem relativ schwachen MRR von 0.512 werden sehr viele Dokumente im ersten Versuch korrekt identifiziert. Bei welchen Dokumenten das nicht passiert, wird nachfolgend genauer untersucht.      "
   ],
   "metadata": {
    "collapsed": false
   },
   "id": "edbc6ae48ea346ff"
  },
  {
   "cell_type": "code",
   "execution_count": 13,
   "outputs": [
    {
     "name": "stdout",
     "output_type": "stream",
     "text": [
      "                                                                                                                question  \\\n",
      "1188                                        Welche Auswirkungen hat die Abholzung auf die Tierwelt und ihre Lebensräume?   \n",
      "1187                                        Welche Auswirkungen hat die Abholzung auf die Tierwelt und ihre Lebensräume?   \n",
      "290   Welche Herausforderungen und Chancen ergeben sich durch die schnelle Verbreitung von Technologie in unserem Leben?   \n",
      "1811                                      Wie viele ganze Zahlen gibt es in der Liste $ 2000, 2001, 2002, \\ldots, 4000$?   \n",
      "1475                               Wie viele positive ganze Zahlen kleiner als 100 haben eine gerade Anzahl von Teilern?   \n",
      "1474                               Wie viele positive ganze Zahlen kleiner als 100 haben eine gerade Anzahl von Teilern?   \n",
      "1345                               Wie viele positive ganze Zahlen kleiner als 100 haben eine gerade Anzahl von Teilern?   \n",
      "1200                               Wie viele positive ganze Zahlen kleiner als 100 haben eine gerade Anzahl von Teilern?   \n",
      "942                                Wie viele positive ganze Zahlen kleiner als 100 haben eine gerade Anzahl von Teilern?   \n",
      "956                                Wie viele positive ganze Zahlen kleiner als 100 haben eine gerade Anzahl von Teilern?   \n",
      "\n",
      "      rank  \n",
      "1188  2294  \n",
      "1187  2293  \n",
      "290   2292  \n",
      "1811  2285  \n",
      "1475  2268  \n",
      "1474  2267  \n",
      "1345  2266  \n",
      "1200  2265  \n",
      "942   2264  \n",
      "956   2263  \n"
     ]
    }
   ],
   "source": [
    "pd.set_option('display.max_colwidth', None)\n",
    "top_10_rows = df_ranks.nlargest(10, 'rank')\n",
    "\n",
    "# Print the top 10 rows with the highest ranks\n",
    "print(top_10_rows)"
   ],
   "metadata": {
    "collapsed": false,
    "ExecuteTime": {
     "end_time": "2024-01-16T10:44:06.459441Z",
     "start_time": "2024-01-16T10:44:06.368427Z"
    }
   },
   "id": "86f8032ebf54dd71"
  },
  {
   "cell_type": "markdown",
   "source": [],
   "metadata": {
    "collapsed": false
   },
   "id": "62e6e36eb609f32"
  },
  {
   "cell_type": "code",
   "execution_count": 14,
   "outputs": [
    {
     "name": "stdout",
     "output_type": "stream",
     "text": [
      "                                                                                                                                            question  \\\n",
      "3                                                                   Welches Ziel hat die Bachelor-Ausbildung an der Hochschule für Technik der FHNW?   \n",
      "20                                                    Wie viele Studierende haben Prüfungen von Modulen im Gegenwert von 60 Credits nicht bestanden?   \n",
      "26                                  Wie viele Credits muss ein Student im Studiengang Data Science erwerben, um den Bachelor-Abschluss zu erreichen?   \n",
      "36                                                                                Was sind die Rechte und Pflichten der Studierenden gemäß der FHNW?   \n",
      "37                                                                Was ist das Portfoliomodul für das 2D-BSc-Data-Science-Programm im Herbstsemester?   \n",
      "39                                                                        Welche Lernergebnisse umfasst das Portfoliomodul \"Digitale Kommunikation\"?   \n",
      "40                                                                  Wofür wird digital communication, bzw. digital content creation meist verwendet?   \n",
      "42  Wie viel Prozent der Leistungspunkte werden für das Verstehen digitaler Kommunikation und das Planen digitaler Inhalte in diesem Modul vergeben?   \n",
      "49                                                 Welches Bewertungsraster sollte für die Bewertung eines LE3-Multimedia-Konzepts verwendet werden?   \n",
      "50                                                                         Welche Aufgaben gibt es im Trainingscenter für dko-Digital Kommunizieren?   \n",
      "\n",
      "    rank  \n",
      "3      1  \n",
      "20     1  \n",
      "26     1  \n",
      "36     1  \n",
      "37     1  \n",
      "39     1  \n",
      "40     1  \n",
      "42     1  \n",
      "49     1  \n",
      "50     1  \n"
     ]
    }
   ],
   "source": [
    "# Assuming df_ranks is your DataFrame and 'ranks' is the column you're interested in\n",
    "pd.set_option('display.max_colwidth', None)\n",
    "top_10_rows = df_ranks.nsmallest(10, 'rank')\n",
    "\n",
    "# Print the top 10 rows with the highest ranks\n",
    "print(top_10_rows)"
   ],
   "metadata": {
    "collapsed": false,
    "ExecuteTime": {
     "end_time": "2024-01-16T10:44:06.460365Z",
     "start_time": "2024-01-16T10:44:06.378971Z"
    }
   },
   "id": "11e9a6d6e5741c8"
  },
  {
   "cell_type": "code",
   "execution_count": 14,
   "outputs": [],
   "source": [],
   "metadata": {
    "collapsed": false,
    "ExecuteTime": {
     "end_time": "2024-01-16T10:44:06.504020Z",
     "start_time": "2024-01-16T10:44:06.388579Z"
    }
   },
   "id": "10e96282dd4e2f5d"
  }
 ],
 "metadata": {
  "kernelspec": {
   "display_name": "Python 3",
   "language": "python",
   "name": "python3"
  },
  "language_info": {
   "codemirror_mode": {
    "name": "ipython",
    "version": 2
   },
   "file_extension": ".py",
   "mimetype": "text/x-python",
   "name": "python",
   "nbconvert_exporter": "python",
   "pygments_lexer": "ipython2",
   "version": "2.7.6"
  }
 },
 "nbformat": 4,
 "nbformat_minor": 5
}
