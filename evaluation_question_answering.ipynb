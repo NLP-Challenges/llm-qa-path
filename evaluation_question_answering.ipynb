{
 "cells": [
  {
   "cell_type": "markdown",
   "metadata": {},
   "source": [
    "# Verwendete Modelle\n",
    "\n",
    "## Modellarchitektur LLama2 13b\n",
    "\n",
    "Ressourcen:\n",
    "- LLaMA explained ([Umar Jamil](https://www.youtube.com/watch?v=Mn_9W1nCFLo))\n",
    "- LLaMA: Open and Efficient Foundation Language Models ([Hugo Touvron et al.](https://arxiv.org/abs/2302.13971))\n",
    "- Llama 2: Open Foundation and Fine-Tuned Chat Models ([Hugo Touvron et al.](https://arxiv.org/abs/2307.09288))\n",
    "\n",
    "![title](img/llama2-architecture.png)\n",
    "\n",
    "## Modellarchitektur Mistral 7b\n",
    "\n",
    "## Unterschiede Vorteile / Nachteile\n",
    "\n",
    "## Weshalb wurden diese Modelle verwendet"
   ]
  },
  {
   "cell_type": "markdown",
   "metadata": {},
   "source": [
    "# Methodik\n",
    "\n",
    "## Ziel\n",
    "\n",
    "## Finetuning\n",
    "\n",
    "### Datenset\n",
    "\n",
    "### Training\n",
    "\n",
    "## Evaluation\n",
    "\n",
    "### Quantitative Analyse\n",
    "\n",
    "### Qualitative Analyse\n",
    "\n",
    "#### Protokoll\n",
    "\n",
    "### Fehleranalyse"
   ]
  },
  {
   "cell_type": "markdown",
   "metadata": {},
   "source": [
    "# Eda Datenset\n",
    "\n",
    "Analyse"
   ]
  },
  {
   "cell_type": "markdown",
   "metadata": {},
   "source": [
    "# Evaluationsmetriken\n",
    "\n",
    "## Quantitative Analyse\n",
    "\n",
    "Bleu / Rouge\n",
    "\n",
    "## Qualitative Analyse\n",
    "\n",
    "Factuality / Coverage"
   ]
  },
  {
   "cell_type": "markdown",
   "metadata": {},
   "source": [
    "# Quantitiative Analyse\n",
    "\n",
    "Eval loss / Bleu / Rouge\n",
    "\n",
    "Wandb report"
   ]
  },
  {
   "cell_type": "markdown",
   "metadata": {},
   "source": [
    "# Qualitative Analyse\n",
    "\n",
    "Spaces Kontext / Frage / Anwort / Factuality / Coverage "
   ]
  },
  {
   "cell_type": "markdown",
   "metadata": {},
   "source": [
    "# Fehleranalyse / Korrekturversuch\n",
    "\n",
    "Wo wurden Fehler gemacht?\n",
    "\n",
    "ROME\n",
    "\n",
    "Attention scores"
   ]
  }
 ],
 "metadata": {
  "kernelspec": {
   "display_name": "chatbot-qa",
   "language": "python",
   "name": "python3"
  },
  "language_info": {
   "codemirror_mode": {
    "name": "ipython",
    "version": 3
   },
   "file_extension": ".py",
   "mimetype": "text/x-python",
   "name": "python",
   "nbconvert_exporter": "python",
   "pygments_lexer": "ipython3",
   "version": "3.11.6"
  }
 },
 "nbformat": 4,
 "nbformat_minor": 2
}
