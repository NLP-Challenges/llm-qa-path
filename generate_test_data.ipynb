{
 "cells": [
  {
   "cell_type": "code",
   "execution_count": 4,
   "metadata": {},
   "outputs": [
    {
     "name": "stderr",
     "output_type": "stream",
     "text": [
      "c:\\Users\\Stephan\\anaconda3\\envs\\chatbot-qa\\Lib\\site-packages\\tqdm\\auto.py:21: TqdmWarning: IProgress not found. Please update jupyter and ipywidgets. See https://ipywidgets.readthedocs.io/en/stable/user_install.html\n",
      "  from .autonotebook import tqdm as notebook_tqdm\n"
     ]
    }
   ],
   "source": [
    "import pandas as pd\n",
    "import datasets"
   ]
  },
  {
   "cell_type": "code",
   "execution_count": 5,
   "metadata": {},
   "outputs": [
    {
     "name": "stderr",
     "output_type": "stream",
     "text": [
      "Saving the dataset (1/1 shards): 100%|██████████| 30/30 [00:00<00:00, 1919.91 examples/s]\n"
     ]
    }
   ],
   "source": [
    "import random\n",
    "\n",
    "# Helper function to generate a random entry\n",
    "def generate_entry(index):\n",
    "    sources = [\"Wikipedia\", \"National Geographic\", \"Encyclopedia Britannica\", \"CNN\", \"BBC\", \"The New York Times\"]\n",
    "    questions = [\n",
    "        \"Was sind die Hauptbestandteile von Wasser?\",\n",
    "        \"Wo befindet sich der Eiffelturm?\",\n",
    "        \"Wer schrieb 'Romeo und Julia'?\",\n",
    "        \"Was ist die Hauptstadt von Japan?\",\n",
    "        \"Wie alt ist die Erde ungefähr?\",\n",
    "        \"Wer war der erste Mensch auf dem Mond?\",\n",
    "        \"Was ist die tiefste Stelle im Ozean?\",\n",
    "        \"Welches Land hat die größte Bevölkerung?\",\n",
    "        \"Was ist die am weitesten verbreitete Sprache der Welt?\",\n",
    "        \"Was ist das Periodensystem der Elemente?\"\n",
    "    ]\n",
    "    answers = [\n",
    "        \"Wasser besteht hauptsächlich aus zwei Wasserstoffatomen und einem Sauerstoffatom.\",\n",
    "        \"Der Eiffelturm befindet sich in Paris, Frankreich.\",\n",
    "        \"William Shakespeare schrieb 'Romeo und Julia'.\",\n",
    "        \"Die Hauptstadt von Japan ist Tokio.\",\n",
    "        \"Die Erde ist ungefähr 4,5 Milliarden Jahre alt.\",\n",
    "        \"Neil Armstrong war der erste Mensch auf dem Mond.\",\n",
    "        \"Die tiefste Stelle im Ozean ist der Marianengraben.\",\n",
    "        \"China hat die größte Bevölkerung.\",\n",
    "        \"Mandarin ist die am weitesten verbreitete Sprache der Welt.\",\n",
    "        \"Das Periodensystem der Elemente klassifiziert die chemischen Elemente.\"\n",
    "    ]\n",
    "    extractive_answers = [\n",
    "        \"zwei Wasserstoffatomen und einem Sauerstoffatom\",\n",
    "        \"Paris, Frankreich\",\n",
    "        \"William Shakespeare\",\n",
    "        \"Tokio\",\n",
    "        \"4,5 Milliarden Jahre\",\n",
    "        \"Neil Armstrong\",\n",
    "        \"Marianengraben\",\n",
    "        \"China\",\n",
    "        \"Mandarin\",\n",
    "        \"klassifiziert die chemischen Elemente\"\n",
    "    ]\n",
    "    splits = [\"train\", \"val\", \"test\"]\n",
    "\n",
    "    # Randomly selecting the components of the entry\n",
    "    source = random.choice(sources)\n",
    "    question = random.choice(questions)\n",
    "    answer = random.choice(answers)\n",
    "    extractive_answer = random.choice(extractive_answers)\n",
    "    can_be_answered = random.choice([True, False])\n",
    "    split = random.choice(splits)\n",
    "\n",
    "    context = [{\"QUELLE\": source, \"INHALT\": f\"{question} - {answer}\"}]\n",
    "\n",
    "    return {\n",
    "        \"context\": str(context),\n",
    "        \"question\": question,\n",
    "        \"answers\": answer,\n",
    "        \"can_be_answered\": can_be_answered,\n",
    "        \"extractive_answer\": extractive_answer,\n",
    "        \"split\": split\n",
    "    }\n",
    "\n",
    "# Generating 30 entries\n",
    "generated_data = [generate_entry(i) for i in range(30)]\n",
    "\n",
    "# Converting to DataFrame\n",
    "generated_df = pd.DataFrame(generated_data)\n",
    "\n",
    "datasets.Dataset.from_pandas(generated_df).save_to_disk(\"./data/processed/test_data.hf\")"
   ]
  }
 ],
 "metadata": {
  "kernelspec": {
   "display_name": "chatbot-qa",
   "language": "python",
   "name": "python3"
  },
  "language_info": {
   "codemirror_mode": {
    "name": "ipython",
    "version": 3
   },
   "file_extension": ".py",
   "mimetype": "text/x-python",
   "name": "python",
   "nbconvert_exporter": "python",
   "pygments_lexer": "ipython3",
   "version": "3.11.6"
  }
 },
 "nbformat": 4,
 "nbformat_minor": 2
}
